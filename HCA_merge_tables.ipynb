{
 "cells": [
  {
   "cell_type": "code",
   "execution_count": 1,
   "id": "0325d3e8-7a88-4b1d-875d-a850a79ad7ca",
   "metadata": {},
   "outputs": [],
   "source": [
    "import pandas as pd"
   ]
  },
  {
   "cell_type": "code",
   "execution_count": 10,
   "id": "ffc6d17e-3b15-41e9-81ce-95423f70fa5f",
   "metadata": {},
   "outputs": [],
   "source": [
    "# Load Datasets\n",
    "hca_users = pd.read_csv('datasets/Fake_datasets/hca_users.csv')\n",
    "hca_food_items = pd.read_csv('datasets/Fake_datasets/hca_food_items.csv')\n",
    "hca_recipes = pd.read_csv('datasets/Fake_datasets/hca_recipes.csv')\n",
    "hca_food_logs = pd.read_csv('datasets/Fake_datasets/hca_food_logs.csv')\n",
    "hc_google_fence = pd.read_csv('datasets/Fake_datasets/hca_google_fence.csv')"
   ]
  },
  {
   "cell_type": "code",
   "execution_count": 11,
   "id": "71999396-7654-4b13-91fc-4496d6014891",
   "metadata": {},
   "outputs": [
    {
     "name": "stdout",
     "output_type": "stream",
     "text": [
      "hca_users : (100, 78)\n",
      "hca_food_items: (100, 16)\n",
      "hca_recipes: (100, 18)\n",
      "hca_food_logs: (100, 12)\n",
      "hc_google_fence: (100, 9)\n"
     ]
    }
   ],
   "source": [
    "# print the shape\n",
    "print(\"hca_users : \"+str(hca_users.shape))\n",
    "print(\"hca_food_items: \"+str(hca_food_items.shape))\n",
    "print(\"hca_recipes: \"+str(hca_recipes.shape))\n",
    "print(\"hca_food_logs: \"+str(hca_food_logs.shape))\n",
    "print(\"hc_google_fence: \"+str(hc_google_fence.shape))"
   ]
  },
  {
   "cell_type": "code",
   "execution_count": 14,
   "id": "033d2f4c-8831-4757-9c02-11daf3b0cfda",
   "metadata": {},
   "outputs": [
    {
     "ename": "TypeError",
     "evalue": "'DataFrame' object is not callable",
     "output_type": "error",
     "traceback": [
      "\u001b[1;31m---------------------------------------------------------------------------\u001b[0m",
      "\u001b[1;31mTypeError\u001b[0m                                 Traceback (most recent call last)",
      "Cell \u001b[1;32mIn[14], line 1\u001b[0m\n\u001b[1;32m----> 1\u001b[0m hca_users_filtered \u001b[38;5;241m=\u001b[39m\u001b[43mhca_users\u001b[49m\u001b[43m(\u001b[49m\u001b[43m[\u001b[49m\u001b[38;5;124;43m\"\u001b[39;49m\u001b[38;5;124;43muser_code\u001b[39;49m\u001b[38;5;124;43m\"\u001b[39;49m\u001b[43m,\u001b[49m\u001b[38;5;124;43m\"\u001b[39;49m\u001b[38;5;124;43mgender\u001b[39;49m\u001b[38;5;124;43m\"\u001b[39;49m\u001b[43m,\u001b[49m\u001b[38;5;124;43m\"\u001b[39;49m\u001b[38;5;124;43mbirth_date\u001b[39;49m\u001b[38;5;124;43m\"\u001b[39;49m\u001b[43m,\u001b[49m\u001b[38;5;124;43m\"\u001b[39;49m\u001b[38;5;124;43muser_height\u001b[39;49m\u001b[38;5;124;43m\"\u001b[39;49m\u001b[43m,\u001b[49m\u001b[38;5;124;43m\"\u001b[39;49m\u001b[38;5;124;43muser_weight\u001b[39;49m\u001b[38;5;124;43m\"\u001b[39;49m\u001b[43m,\u001b[49m\u001b[38;5;124;43m\"\u001b[39;49m\u001b[38;5;124;43mtarget_weight\u001b[39;49m\u001b[38;5;124;43m\"\u001b[39;49m\u001b[43m,\u001b[49m\u001b[38;5;124;43m\"\u001b[39;49m\u001b[38;5;124;43mfrequently_exercise\u001b[39;49m\u001b[38;5;124;43m\"\u001b[39;49m\u001b[43m,\u001b[49m\u001b[38;5;124;43m\"\u001b[39;49m\u001b[38;5;124;43mfood_mostly_eaten_at\u001b[39;49m\u001b[38;5;124;43m\"\u001b[39;49m\u001b[43m,\u001b[49m\u001b[38;5;124;43m\"\u001b[39;49m\u001b[38;5;124;43mcuisine_ids\u001b[39;49m\u001b[38;5;124;43m\"\u001b[39;49m\u001b[43m,\u001b[49m\u001b[38;5;124;43m\"\u001b[39;49m\u001b[38;5;124;43mspent_on_meal\u001b[39;49m\u001b[38;5;124;43m\"\u001b[39;49m\u001b[43m,\u001b[49m\u001b[38;5;124;43m\"\u001b[39;49m\u001b[38;5;124;43mdiet_plan\u001b[39;49m\u001b[38;5;124;43m\"\u001b[39;49m\u001b[43m,\u001b[49m\u001b[38;5;124;43m\"\u001b[39;49m\u001b[38;5;124;43mdefault_diet_plan\u001b[39;49m\u001b[38;5;124;43m\"\u001b[39;49m\u001b[43m,\u001b[49m\u001b[38;5;124;43m\"\u001b[39;49m\u001b[38;5;124;43mmedical_condition_ids\u001b[39;49m\u001b[38;5;124;43m\"\u001b[39;49m\u001b[43m,\u001b[49m\u001b[38;5;124;43m\"\u001b[39;49m\u001b[38;5;124;43mallergic_condition_ids\u001b[39;49m\u001b[38;5;124;43m\"\u001b[39;49m\u001b[43m,\u001b[49m\u001b[38;5;124;43m\"\u001b[39;49m\u001b[38;5;124;43mtime_zone\u001b[39;49m\u001b[38;5;124;43m\"\u001b[39;49m\u001b[43m,\u001b[49m\u001b[38;5;124;43m\"\u001b[39;49m\u001b[38;5;124;43mis_dietitian\u001b[39;49m\u001b[38;5;124;43m\"\u001b[39;49m\u001b[43m,\u001b[49m\u001b[38;5;124;43m\"\u001b[39;49m\u001b[38;5;124;43mlatitude\u001b[39;49m\u001b[38;5;124;43m\"\u001b[39;49m\u001b[43m,\u001b[49m\u001b[38;5;124;43m\"\u001b[39;49m\u001b[38;5;124;43mlongitude\u001b[39;49m\u001b[38;5;124;43m\"\u001b[39;49m\u001b[43m,\u001b[49m\u001b[38;5;124;43m\"\u001b[39;49m\u001b[38;5;124;43mlast_access_time\u001b[39;49m\u001b[38;5;124;43m\"\u001b[39;49m\u001b[43m]\u001b[49m\u001b[43m)\u001b[49m\n\u001b[0;32m      2\u001b[0m hca_food_items_filtered\u001b[38;5;241m=\u001b[39mhca_food_items[\u001b[38;5;124m\"\u001b[39m\u001b[38;5;124mfdc_id\u001b[39m\u001b[38;5;124m\"\u001b[39m,\u001b[38;5;124m\"\u001b[39m\u001b[38;5;124mitem_name\u001b[39m\u001b[38;5;124m\"\u001b[39m, \u001b[38;5;124m\"\u001b[39m\u001b[38;5;124msubstitute_itemsids\u001b[39m\u001b[38;5;124m\"\u001b[39m,\u001b[38;5;124m\"\u001b[39m\u001b[38;5;124msubstitute_recipeids\u001b[39m\u001b[38;5;124m\"\u001b[39m,\u001b[38;5;124m\"\u001b[39m\u001b[38;5;124mfood_type\u001b[39m\u001b[38;5;124m\"\u001b[39m,\u001b[38;5;124m\"\u001b[39m\u001b[38;5;124mfood_category\u001b[39m\u001b[38;5;124m\"\u001b[39m]\n\u001b[0;32m      3\u001b[0m hca_recipes_filtered\u001b[38;5;241m=\u001b[39mhca_recipes[\u001b[38;5;124m\"\u001b[39m\u001b[38;5;124mrecipe_id\u001b[39m\u001b[38;5;124m\"\u001b[39m,\u001b[38;5;124m\"\u001b[39m\u001b[38;5;124mrecipe_name\u001b[39m\u001b[38;5;124m\"\u001b[39m,\u001b[38;5;124m\"\u001b[39m\u001b[38;5;124msubstitute_recipeids\u001b[39m\u001b[38;5;124m\"\u001b[39m,\u001b[38;5;124m\"\u001b[39m\u001b[38;5;124msubstitute_itemsids\u001b[39m\u001b[38;5;124m\"\u001b[39m,\u001b[38;5;124m\"\u001b[39m\u001b[38;5;124mfood_type\u001b[39m\u001b[38;5;124m\"\u001b[39m,\u001b[38;5;124m\"\u001b[39m\u001b[38;5;124meqv\u001b[39m\u001b[38;5;124m\"\u001b[39m]\n",
      "\u001b[1;31mTypeError\u001b[0m: 'DataFrame' object is not callable"
     ]
    }
   ],
   "source": [
    "hca_users_filtered =hca_users[\"user_code\",\"gender\",\"birth_date\",\"user_height\",\"user_weight\",\"target_weight\",\"frequently_exercise\",\"food_mostly_eaten_at\",\"cuisine_ids\",\"spent_on_meal\",\"diet_plan\",\"default_diet_plan\",\"medical_condition_ids\",\"allergic_condition_ids\",\"time_zone\",\"is_dietitian\",\"latitude\",\"longitude\",\"last_access_time\"]\n",
    "hca_food_items_filtered=hca_food_items[\"fdc_id\",\"item_name\", \"substitute_itemsids\",\"substitute_recipeids\",\"food_type\",\"food_category\"]\n",
    "hca_recipes_filtered=hca_recipes[\"recipe_id\",\"recipe_name\",\"substitute_recipeids\",\"substitute_itemsids\",\"food_type\",\"eqv\"]\n",
    "hca_food_logs_filtered=hca_food_logs[\"fl_id\",\"log_date\",\"item_id\",\"food_time\",\"log_time\",\"energy\",\"protein\",\"carbohydrate\",\"lipid_fat\",\"item_unit\",\"item_quantity\",\"created_by\",\"exceeded_calories\",\"liked_substitute\"]\n",
    "hc_google_fence_filtered=hc_google_fence[\"id\",\"restaurant_name\",\"restaurant_id\",\"latitude\",\"longitude\",\"visit_count\",\"last_visit\",\"fl_id\"]"
   ]
  },
  {
   "cell_type": "code",
   "execution_count": 5,
   "id": "f17bab63-871a-4590-af14-1f8738d982b5",
   "metadata": {},
   "outputs": [
    {
     "ename": "NameError",
     "evalue": "name 'merged_user_data' is not defined",
     "output_type": "error",
     "traceback": [
      "\u001b[1;31m---------------------------------------------------------------------------\u001b[0m",
      "\u001b[1;31mNameError\u001b[0m                                 Traceback (most recent call last)",
      "Cell \u001b[1;32mIn[5], line 2\u001b[0m\n\u001b[0;32m      1\u001b[0m \u001b[38;5;66;03m# Merge and match the above merged data with food items and recipes respectively\u001b[39;00m\n\u001b[1;32m----> 2\u001b[0m merged_food_item_data \u001b[38;5;241m=\u001b[39m pd\u001b[38;5;241m.\u001b[39mmerge(\u001b[43mmerged_user_data\u001b[49m, hca_food_items, left_on\u001b[38;5;241m=\u001b[39m\u001b[38;5;124m\"\u001b[39m\u001b[38;5;124mitem_id\u001b[39m\u001b[38;5;124m\"\u001b[39m,  right_on\u001b[38;5;241m=\u001b[39m\u001b[38;5;124m\"\u001b[39m\u001b[38;5;124mfdc_id\u001b[39m\u001b[38;5;124m\"\u001b[39m)\n\u001b[0;32m      3\u001b[0m merged_recipe_data \u001b[38;5;241m=\u001b[39m pd\u001b[38;5;241m.\u001b[39mmerge(merged_user_data, hca_recipes, left_on\u001b[38;5;241m=\u001b[39m\u001b[38;5;124m\"\u001b[39m\u001b[38;5;124mitem_id\u001b[39m\u001b[38;5;124m\"\u001b[39m,  right_on\u001b[38;5;241m=\u001b[39m\u001b[38;5;124m\"\u001b[39m\u001b[38;5;124mrecipe_id\u001b[39m\u001b[38;5;124m\"\u001b[39m)\n",
      "\u001b[1;31mNameError\u001b[0m: name 'merged_user_data' is not defined"
     ]
    }
   ],
   "source": [
    "# Merge and match the above merged data with food items and recipes respectively\n",
    "merged_food_item_data = pd.merge(merged_user_data, hca_food_items, left_on=\"item_id\",  right_on=\"fdc_id\")\n",
    "merged_recipe_data = pd.merge(merged_user_data, hca_recipes, left_on=\"item_id\",  right_on=\"recipe_id\")"
   ]
  },
  {
   "cell_type": "code",
   "execution_count": null,
   "id": "2e879aeb-ec9e-405f-9078-6bba62f25b78",
   "metadata": {},
   "outputs": [],
   "source": []
  }
 ],
 "metadata": {
  "kernelspec": {
   "display_name": "Python 3 (ipykernel)",
   "language": "python",
   "name": "python3"
  },
  "language_info": {
   "codemirror_mode": {
    "name": "ipython",
    "version": 3
   },
   "file_extension": ".py",
   "mimetype": "text/x-python",
   "name": "python",
   "nbconvert_exporter": "python",
   "pygments_lexer": "ipython3",
   "version": "3.10.13"
  }
 },
 "nbformat": 4,
 "nbformat_minor": 5
}
