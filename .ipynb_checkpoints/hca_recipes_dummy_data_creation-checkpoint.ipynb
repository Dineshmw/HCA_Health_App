{
 "cells": [
  {
   "cell_type": "code",
   "execution_count": 1,
   "id": "d6105235-7d6f-4db3-8ae4-57f9c3afd45a",
   "metadata": {},
   "outputs": [],
   "source": [
    "from faker import Faker\n",
    "import pandas as pd\n",
    "import numpy as np\n",
    "import random\n",
    "import datetime\n",
    "import time"
   ]
  },
  {
   "cell_type": "code",
   "execution_count": 2,
   "id": "74ec1a38-e456-4db0-9013-acf1136cc1a2",
   "metadata": {},
   "outputs": [],
   "source": [
    "fake = Faker()"
   ]
  },
  {
   "cell_type": "code",
   "execution_count": 3,
   "id": "2b50167b-3de3-416a-ac42-25a0609ce360",
   "metadata": {},
   "outputs": [],
   "source": [
    "recipe_name=[]\n",
    "recipeSummary=[]\n",
    "num_of_serving=[]\n",
    "serving_size=[]\n",
    "item_unit=[]\n",
    "recipe_weight=[]\n",
    "recipe_type_id=[]\n",
    "recipe_notes=[]\n",
    "prepare_time=[]\n",
    "description=[]\n",
    "total_carbohydrate=[]\n",
    "total_protein=[]\n",
    "total_energy=[]\n",
    "total_lipid_fat=[]\n",
    "recipe_image=[]\n",
    "eqv=[]\n",
    "micronutrient=[]\n",
    "food_type=[]"
   ]
  },
  {
   "cell_type": "code",
   "execution_count": null,
   "id": "d42c7ce3-8f4a-43d5-815e-294e24ca69a8",
   "metadata": {},
   "outputs": [],
   "source": []
  }
 ],
 "metadata": {
  "kernelspec": {
   "display_name": "Python 3 (ipykernel)",
   "language": "python",
   "name": "python3"
  },
  "language_info": {
   "codemirror_mode": {
    "name": "ipython",
    "version": 3
   },
   "file_extension": ".py",
   "mimetype": "text/x-python",
   "name": "python",
   "nbconvert_exporter": "python",
   "pygments_lexer": "ipython3",
   "version": "3.10.13"
  }
 },
 "nbformat": 4,
 "nbformat_minor": 5
}
