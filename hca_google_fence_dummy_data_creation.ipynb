{
 "cells": [
  {
   "cell_type": "code",
   "execution_count": 95,
   "metadata": {},
   "outputs": [],
   "source": [
    "from faker import Faker\n",
    "import pandas as pd\n",
    "import numpy as np\n",
    "import random\n",
    "import datetime\n",
    "import time\n",
    "import uuid\n",
    "import pytz"
   ]
  },
  {
   "cell_type": "code",
   "execution_count": 96,
   "metadata": {},
   "outputs": [
    {
     "name": "stdout",
     "output_type": "stream",
     "text": [
      "id\n",
      "restaurant_name\n",
      "restaurant_id\n",
      "user_id\n",
      "latitude\n",
      "longitude\n",
      "visit_count\n",
      "last_visit\n"
     ]
    },
    {
     "data": {
      "text/plain": [
       "0    0\n",
       "1    0\n",
       "2    0\n",
       "3    0\n",
       "4    0\n",
       "5    0\n",
       "6    0\n",
       "7    0\n",
       "8    0\n",
       "9    0\n",
       "Name: visit_count, dtype: int64"
      ]
     },
     "execution_count": 96,
     "metadata": {},
     "output_type": "execute_result"
    }
   ],
   "source": [
    "# Print Column Names\n",
    "hca_google_fence = pd.read_csv('datasets/hca_google_fence.csv')\n",
    "for column in hca_google_fence.columns:\n",
    "    print(column)\n",
    "hca_google_fence['visit_count']"
   ]
  },
  {
   "cell_type": "code",
   "execution_count": 97,
   "metadata": {},
   "outputs": [],
   "source": [
    "ids=[]\n",
    "restaurant_name=[]\n",
    "restaurant_id=[]\n",
    "user_id=[]\n",
    "latitude=[]\n",
    "longitude=[]\n",
    "visit_count=[]\n",
    "last_visit=[]"
   ]
  },
  {
   "cell_type": "code",
   "execution_count": 98,
   "metadata": {},
   "outputs": [
    {
     "data": {
      "text/plain": [
       "0"
      ]
     },
     "execution_count": 98,
     "metadata": {},
     "output_type": "execute_result"
    }
   ],
   "source": [
    "fake = Faker()\n",
    "len(ids)"
   ]
  },
  {
   "cell_type": "code",
   "execution_count": 99,
   "metadata": {},
   "outputs": [],
   "source": [
    "for i in range(100):\n",
    "    ids.append(str(i))\n",
    "\n",
    "for i in range(100):\n",
    "    restaurant_name.append(fake.company())\n",
    "\n",
    "for i in range(100):\n",
    "    restaurant_id.append(fake.md5())\n",
    "\n",
    "for _ in range(100):\n",
    "    uid = random.choice(['U100000', 'U100001', 'U100002', 'U100003', 'U100004', 'U100005', 'U100006', 'U100007', 'U100008', 'U100009', 'U100010', 'U100011', 'U100012', 'U100013', 'U100014', 'U100015', 'U100016', 'U100017', 'U100018', 'U100019', 'U100020', 'U100021', 'U100022', 'U100023', 'U100024', 'U100025', 'U100026', 'U100027', 'U100028', 'U100029', 'U100030', 'U100031', 'U100032', 'U100033', 'U100034', 'U100035', 'U100036', 'U100037', 'U100038', 'U100039', 'U100040', 'U100041', 'U100042', 'U100043', 'U100044', 'U100045', 'U100046', 'U100047', 'U100048', 'U100049', 'U100050', 'U100051', 'U100052', 'U100053', 'U100054', 'U100055', 'U100056', 'U100057', 'U100058', 'U100059', 'U100060', 'U100061', 'U100062', 'U100063', 'U100064', 'U100065', 'U100066', 'U100067', 'U100068', 'U100069', 'U100070', 'U100071', 'U100072', 'U100073', 'U100074', 'U100075', 'U100076', 'U100077', 'U100078', 'U100079', 'U100080', 'U100081', 'U100082', 'U100083', 'U100084', 'U100085', 'U100086', 'U100087', 'U100088'])\n",
    "    user_id.append(uid)\n",
    "\n",
    "for _ in range(100):\n",
    "    latitude.append(fake.latitude())\n",
    "    \n",
    "for _ in range(100):\n",
    "    longitude.append(fake.longitude())\n",
    "\n",
    "for i in range(100):\n",
    "    vc = random.randint(1, 10)\n",
    "    visit_count.append(vc)\n",
    "\n",
    "for i in range(100):\n",
    "    last_visit.append(fake.unix_time())\n"
   ]
  },
  {
   "cell_type": "code",
   "execution_count": 100,
   "metadata": {},
   "outputs": [],
   "source": [
    "Restaurants_dictionary = {\n",
    "    'id': ids,\n",
    "    'restaurant_name': restaurant_name,\n",
    "    'restaurant_id': restaurant_id,\n",
    "    'user_id': user_id,\n",
    "    'latitude': latitude,\n",
    "    'longitude': longitude,\n",
    "    'visit_count': visit_count,\n",
    "    'last_visit': last_visit,\n",
    "}"
   ]
  },
  {
   "cell_type": "code",
   "execution_count": 101,
   "metadata": {},
   "outputs": [],
   "source": [
    "restaurants_df = pd.DataFrame(Restaurants_dictionary)"
   ]
  },
  {
   "cell_type": "code",
   "execution_count": 102,
   "metadata": {},
   "outputs": [
    {
     "data": {
      "text/html": [
       "<div>\n",
       "<style scoped>\n",
       "    .dataframe tbody tr th:only-of-type {\n",
       "        vertical-align: middle;\n",
       "    }\n",
       "\n",
       "    .dataframe tbody tr th {\n",
       "        vertical-align: top;\n",
       "    }\n",
       "\n",
       "    .dataframe thead th {\n",
       "        text-align: right;\n",
       "    }\n",
       "</style>\n",
       "<table border=\"1\" class=\"dataframe\">\n",
       "  <thead>\n",
       "    <tr style=\"text-align: right;\">\n",
       "      <th></th>\n",
       "      <th>id</th>\n",
       "      <th>restaurant_name</th>\n",
       "      <th>restaurant_id</th>\n",
       "      <th>user_id</th>\n",
       "      <th>latitude</th>\n",
       "      <th>longitude</th>\n",
       "      <th>visit_count</th>\n",
       "      <th>last_visit</th>\n",
       "    </tr>\n",
       "  </thead>\n",
       "  <tbody>\n",
       "    <tr>\n",
       "      <th>0</th>\n",
       "      <td>0</td>\n",
       "      <td>Chen LLC</td>\n",
       "      <td>de51e8ce9fd13ad726b9359be14ad1cf</td>\n",
       "      <td>U100086</td>\n",
       "      <td>52.3668145</td>\n",
       "      <td>-157.572399</td>\n",
       "      <td>1</td>\n",
       "      <td>1.697986e+09</td>\n",
       "    </tr>\n",
       "    <tr>\n",
       "      <th>1</th>\n",
       "      <td>1</td>\n",
       "      <td>Dean, Castaneda and French</td>\n",
       "      <td>ad1f618338e6904bb9f96f9830c1d8ef</td>\n",
       "      <td>U100024</td>\n",
       "      <td>68.1042905</td>\n",
       "      <td>-67.750761</td>\n",
       "      <td>8</td>\n",
       "      <td>1.249302e+09</td>\n",
       "    </tr>\n",
       "    <tr>\n",
       "      <th>2</th>\n",
       "      <td>2</td>\n",
       "      <td>White, Burke and Welch</td>\n",
       "      <td>c2d6dc25ea072b27ae98e31401da8cd1</td>\n",
       "      <td>U100023</td>\n",
       "      <td>66.025216</td>\n",
       "      <td>-103.782674</td>\n",
       "      <td>8</td>\n",
       "      <td>6.314939e+08</td>\n",
       "    </tr>\n",
       "    <tr>\n",
       "      <th>3</th>\n",
       "      <td>3</td>\n",
       "      <td>Harris LLC</td>\n",
       "      <td>58de555a6fa6cd7644eead6fc68ab88f</td>\n",
       "      <td>U100049</td>\n",
       "      <td>-21.393199</td>\n",
       "      <td>82.677686</td>\n",
       "      <td>5</td>\n",
       "      <td>1.413664e+09</td>\n",
       "    </tr>\n",
       "    <tr>\n",
       "      <th>4</th>\n",
       "      <td>4</td>\n",
       "      <td>Wilson, Barnes and Robinson</td>\n",
       "      <td>4c6be2be62d01529cd6b99e62458b1a0</td>\n",
       "      <td>U100081</td>\n",
       "      <td>78.0228035</td>\n",
       "      <td>79.693941</td>\n",
       "      <td>7</td>\n",
       "      <td>1.476040e+09</td>\n",
       "    </tr>\n",
       "  </tbody>\n",
       "</table>\n",
       "</div>"
      ],
      "text/plain": [
       "  id              restaurant_name                     restaurant_id  user_id  \\\n",
       "0  0                     Chen LLC  de51e8ce9fd13ad726b9359be14ad1cf  U100086   \n",
       "1  1   Dean, Castaneda and French  ad1f618338e6904bb9f96f9830c1d8ef  U100024   \n",
       "2  2       White, Burke and Welch  c2d6dc25ea072b27ae98e31401da8cd1  U100023   \n",
       "3  3                   Harris LLC  58de555a6fa6cd7644eead6fc68ab88f  U100049   \n",
       "4  4  Wilson, Barnes and Robinson  4c6be2be62d01529cd6b99e62458b1a0  U100081   \n",
       "\n",
       "     latitude    longitude  visit_count    last_visit  \n",
       "0  52.3668145  -157.572399            1  1.697986e+09  \n",
       "1  68.1042905   -67.750761            8  1.249302e+09  \n",
       "2   66.025216  -103.782674            8  6.314939e+08  \n",
       "3  -21.393199    82.677686            5  1.413664e+09  \n",
       "4  78.0228035    79.693941            7  1.476040e+09  "
      ]
     },
     "execution_count": 102,
     "metadata": {},
     "output_type": "execute_result"
    }
   ],
   "source": [
    "restaurants_df.head()"
   ]
  },
  {
   "cell_type": "code",
   "execution_count": 103,
   "metadata": {},
   "outputs": [],
   "source": [
    "restaurants_df.to_csv('datasets/Fake_datasets/hca_google_fence.csv', index=False)"
   ]
  }
 ],
 "metadata": {
  "kernelspec": {
   "display_name": "Python 3 (ipykernel)",
   "language": "python",
   "name": "python3"
  },
  "language_info": {
   "codemirror_mode": {
    "name": "ipython",
    "version": 3
   },
   "file_extension": ".py",
   "mimetype": "text/x-python",
   "name": "python",
   "nbconvert_exporter": "python",
   "pygments_lexer": "ipython3",
   "version": "3.11.5"
  }
 },
 "nbformat": 4,
 "nbformat_minor": 2
}
