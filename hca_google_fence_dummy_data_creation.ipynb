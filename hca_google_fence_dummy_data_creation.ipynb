{
 "cells": [
  {
   "cell_type": "code",
   "execution_count": 24,
   "metadata": {},
   "outputs": [],
   "source": [
    "from faker import Faker\n",
    "import pandas as pd\n",
    "import numpy as np\n",
    "import random\n",
    "import datetime\n",
    "import time\n",
    "import uuid\n",
    "import pytz"
   ]
  },
  {
   "cell_type": "code",
   "execution_count": 25,
   "metadata": {},
   "outputs": [
    {
     "name": "stdout",
     "output_type": "stream",
     "text": [
      "id\n",
      "restaurant_name\n",
      "restaurant_id\n",
      "user_id\n",
      "latitude\n",
      "longitude\n",
      "visit_count\n",
      "last_visit\n"
     ]
    }
   ],
   "source": [
    "# Print Column Names\n",
    "hca_google_fence = pd.read_csv('datasets/hca_google_fence.csv')\n",
    "for column in hca_google_fence.columns:\n",
    "    print(column)"
   ]
  },
  {
   "cell_type": "code",
   "execution_count": 26,
   "metadata": {},
   "outputs": [],
   "source": [
    "ids=[]\n",
    "restaurant_name=[]\n",
    "restaurant_id=[]\n",
    "user_id=[]\n",
    "latitude=[]\n",
    "longitude=[]\n",
    "visit_count=[]\n",
    "last_visit=[]\n",
    "fl_id=[]"
   ]
  },
  {
   "cell_type": "code",
   "execution_count": 27,
   "metadata": {},
   "outputs": [
    {
     "data": {
      "text/plain": [
       "0"
      ]
     },
     "execution_count": 27,
     "metadata": {},
     "output_type": "execute_result"
    }
   ],
   "source": [
    "fake = Faker()\n",
    "len(ids)"
   ]
  },
  {
   "cell_type": "code",
   "execution_count": 28,
   "metadata": {},
   "outputs": [],
   "source": [
    "for i in range(100):\n",
    "    ids.append(str(i))\n",
    "\n",
    "for i in range(100):\n",
    "    restaurant_name.append(fake.company())\n",
    "\n",
    "for i in range(100):\n",
    "    restaurant_id.append(fake.md5())\n",
    "\n",
    "for _ in range(100):\n",
    "    uid = random.choice(['U100000', 'U100001', 'U100002', 'U100003', 'U100004', 'U100005', 'U100006', 'U100007', 'U100008', 'U100009', 'U100010', 'U100011', 'U100012', 'U100013', 'U100014', 'U100015', 'U100016', 'U100017', 'U100018', 'U100019', 'U100020', 'U100021', 'U100022', 'U100023', 'U100024', 'U100025', 'U100026', 'U100027', 'U100028', 'U100029', 'U100030', 'U100031', 'U100032', 'U100033', 'U100034', 'U100035', 'U100036', 'U100037', 'U100038', 'U100039', 'U100040', 'U100041', 'U100042', 'U100043', 'U100044', 'U100045', 'U100046', 'U100047', 'U100048', 'U100049', 'U100050', 'U100051', 'U100052', 'U100053', 'U100054', 'U100055', 'U100056', 'U100057', 'U100058', 'U100059', 'U100060', 'U100061', 'U100062', 'U100063', 'U100064', 'U100065', 'U100066', 'U100067', 'U100068', 'U100069', 'U100070', 'U100071', 'U100072', 'U100073', 'U100074', 'U100075', 'U100076', 'U100077', 'U100078', 'U100079', 'U100080', 'U100081', 'U100082', 'U100083', 'U100084', 'U100085', 'U100086', 'U100087', 'U100088'])\n",
    "    user_id.append(uid)\n",
    "\n",
    "for _ in range(100):\n",
    "    latitude.append(fake.latitude())\n",
    "    \n",
    "for _ in range(100):\n",
    "    longitude.append(fake.longitude())\n",
    "\n",
    "for i in range(100):\n",
    "    vc = random.randint(1, 10)\n",
    "    visit_count.append(vc)\n",
    "\n",
    "for i in range(100):\n",
    "    last_visit.append(fake.unix_time())\n",
    "    \n",
    "for i in range(100):\n",
    "     flid = random.choice(['LI100000', 'LI100001', 'LI100002', 'LI100003', 'LI100004', 'LI100005', 'LI100006', 'LI100007', 'LI100008', 'LI100009', 'LI100010', 'LI100011', 'LI100012', 'LI100013', 'LI100014', 'LI100015', 'LI100016', 'LI100017', 'LI100018', 'LI100019', 'LI100020', 'LI100021', 'LI100022', 'LI100023', 'LI100024', 'LI100025', 'LI100026', 'LI100027', 'LI100028', 'LI100029', 'LI100030', 'LI100031', 'LI100032', 'LI100033', 'LI100034', 'LI100035', 'LI100036', 'LI100037', 'LI100038', 'LI100039', 'LI100040', 'LI100041', 'LI100042', 'LI100043', 'LI100044', 'LI100045', 'LI100046', 'LI100047', 'LI100048', 'LI100049', 'LI100050', 'LI100051', 'LI100052', 'LI100053', 'LI100054', 'LI100055', 'LI100056', 'LI100057', 'LI100058', 'LI100059', 'LI100060', 'LI100061', 'LI100062', 'LI100063', 'LI100064', 'LI100065', 'LI100066', 'LI100067', 'LI100068', 'LI100069', 'LI100070', 'LI100071', 'LI100072', 'LI100073', 'LI100074', 'LI100075', 'LI100076', 'LI100077', 'LI100078', 'LI100079', 'LI100080', 'LI100081', 'LI100082', 'LI100083', 'LI100084', 'LI100085', 'LI100086', 'LI100087', 'LI100088', 'LI100089', 'LI100090', 'LI100091', 'LI100092', 'LI100093', 'LI100094', 'LI100095', 'LI100096', 'LI100097', 'LI100098', 'LI100099'])\n",
    "     fl_id.append(flid)  "
   ]
  },
  {
   "cell_type": "code",
   "execution_count": 33,
   "metadata": {},
   "outputs": [],
   "source": [
    "Restaurants_dictionary = {\n",
    "    'id': ids,\n",
    "    'fl_id':fl_id,\n",
    "    'restaurant_name': restaurant_name,\n",
    "    'restaurant_id': restaurant_id,\n",
    "    'user_id': user_id,\n",
    "    'latitude': latitude,\n",
    "    'longitude': longitude,\n",
    "    'visit_count': visit_count,\n",
    "    'last_visit': last_visit,\n",
    "}"
   ]
  },
  {
   "cell_type": "code",
   "execution_count": 34,
   "metadata": {},
   "outputs": [],
   "source": [
    "restaurants_df = pd.DataFrame(Restaurants_dictionary)"
   ]
  },
  {
   "cell_type": "code",
   "execution_count": 35,
   "metadata": {},
   "outputs": [
    {
     "data": {
      "text/html": [
       "<div>\n",
       "<style scoped>\n",
       "    .dataframe tbody tr th:only-of-type {\n",
       "        vertical-align: middle;\n",
       "    }\n",
       "\n",
       "    .dataframe tbody tr th {\n",
       "        vertical-align: top;\n",
       "    }\n",
       "\n",
       "    .dataframe thead th {\n",
       "        text-align: right;\n",
       "    }\n",
       "</style>\n",
       "<table border=\"1\" class=\"dataframe\">\n",
       "  <thead>\n",
       "    <tr style=\"text-align: right;\">\n",
       "      <th></th>\n",
       "      <th>id</th>\n",
       "      <th>fl_id</th>\n",
       "      <th>restaurant_name</th>\n",
       "      <th>restaurant_id</th>\n",
       "      <th>user_id</th>\n",
       "      <th>latitude</th>\n",
       "      <th>longitude</th>\n",
       "      <th>visit_count</th>\n",
       "      <th>last_visit</th>\n",
       "    </tr>\n",
       "  </thead>\n",
       "  <tbody>\n",
       "    <tr>\n",
       "      <th>0</th>\n",
       "      <td>0</td>\n",
       "      <td>LI100089</td>\n",
       "      <td>Bell and Sons</td>\n",
       "      <td>64231f135831c26464f74d491d7c1acc</td>\n",
       "      <td>U100056</td>\n",
       "      <td>8.031036</td>\n",
       "      <td>-139.643394</td>\n",
       "      <td>1</td>\n",
       "      <td>1572561234</td>\n",
       "    </tr>\n",
       "    <tr>\n",
       "      <th>1</th>\n",
       "      <td>1</td>\n",
       "      <td>LI100029</td>\n",
       "      <td>Hernandez-Smith</td>\n",
       "      <td>11c33e88b4cc53cb673f636faf802ef9</td>\n",
       "      <td>U100063</td>\n",
       "      <td>3.3370965</td>\n",
       "      <td>77.851111</td>\n",
       "      <td>6</td>\n",
       "      <td>806975064</td>\n",
       "    </tr>\n",
       "    <tr>\n",
       "      <th>2</th>\n",
       "      <td>2</td>\n",
       "      <td>LI100087</td>\n",
       "      <td>Reid, Lowe and Manning</td>\n",
       "      <td>854ff1d2e113abaa0fb47fd006fedd41</td>\n",
       "      <td>U100082</td>\n",
       "      <td>-50.488884</td>\n",
       "      <td>-3.017812</td>\n",
       "      <td>8</td>\n",
       "      <td>903569099</td>\n",
       "    </tr>\n",
       "    <tr>\n",
       "      <th>3</th>\n",
       "      <td>3</td>\n",
       "      <td>LI100064</td>\n",
       "      <td>Martin PLC</td>\n",
       "      <td>7f9c7dfe7525486ca1bd82b8cad390ab</td>\n",
       "      <td>U100085</td>\n",
       "      <td>58.652323</td>\n",
       "      <td>29.962244</td>\n",
       "      <td>10</td>\n",
       "      <td>1585223088</td>\n",
       "    </tr>\n",
       "    <tr>\n",
       "      <th>4</th>\n",
       "      <td>4</td>\n",
       "      <td>LI100022</td>\n",
       "      <td>Pratt-Horton</td>\n",
       "      <td>291c5b45530c9ce302eb84f12c8a7278</td>\n",
       "      <td>U100071</td>\n",
       "      <td>1.0753415</td>\n",
       "      <td>123.945185</td>\n",
       "      <td>6</td>\n",
       "      <td>900611488</td>\n",
       "    </tr>\n",
       "  </tbody>\n",
       "</table>\n",
       "</div>"
      ],
      "text/plain": [
       "  id     fl_id         restaurant_name                     restaurant_id  \\\n",
       "0  0  LI100089           Bell and Sons  64231f135831c26464f74d491d7c1acc   \n",
       "1  1  LI100029         Hernandez-Smith  11c33e88b4cc53cb673f636faf802ef9   \n",
       "2  2  LI100087  Reid, Lowe and Manning  854ff1d2e113abaa0fb47fd006fedd41   \n",
       "3  3  LI100064              Martin PLC  7f9c7dfe7525486ca1bd82b8cad390ab   \n",
       "4  4  LI100022            Pratt-Horton  291c5b45530c9ce302eb84f12c8a7278   \n",
       "\n",
       "   user_id    latitude    longitude  visit_count  last_visit  \n",
       "0  U100056    8.031036  -139.643394            1  1572561234  \n",
       "1  U100063   3.3370965    77.851111            6   806975064  \n",
       "2  U100082  -50.488884    -3.017812            8   903569099  \n",
       "3  U100085   58.652323    29.962244           10  1585223088  \n",
       "4  U100071   1.0753415   123.945185            6   900611488  "
      ]
     },
     "execution_count": 35,
     "metadata": {},
     "output_type": "execute_result"
    }
   ],
   "source": [
    "restaurants_df.head()"
   ]
  },
  {
   "cell_type": "code",
   "execution_count": 32,
   "metadata": {},
   "outputs": [],
   "source": [
    "restaurants_df.to_csv('datasets/Fake_datasets/hca_google_fence.csv', index=False)"
   ]
  },
  {
   "cell_type": "code",
   "execution_count": null,
   "metadata": {},
   "outputs": [],
   "source": []
  }
 ],
 "metadata": {
  "kernelspec": {
   "display_name": "Python 3 (ipykernel)",
   "language": "python",
   "name": "python3"
  },
  "language_info": {
   "codemirror_mode": {
    "name": "ipython",
    "version": 3
   },
   "file_extension": ".py",
   "mimetype": "text/x-python",
   "name": "python",
   "nbconvert_exporter": "python",
   "pygments_lexer": "ipython3",
   "version": "3.10.13"
  }
 },
 "nbformat": 4,
 "nbformat_minor": 4
}
