{
 "cells": [
  {
   "cell_type": "code",
   "execution_count": 140,
   "metadata": {},
   "outputs": [],
   "source": [
    "import numpy as np \n",
    "import pandas as pd\n",
    "from matplotlib import pyplot as plt\n",
    "import seaborn as sns"
   ]
  },
  {
   "cell_type": "code",
   "execution_count": 142,
   "metadata": {},
   "outputs": [
    {
     "data": {
      "text/plain": [
       "(99, 46)"
      ]
     },
     "execution_count": 142,
     "metadata": {},
     "output_type": "execute_result"
    }
   ],
   "source": [
    "hca_all_merged_dataset = pd.read_csv('datasets/Fake_datasets/hca_all_merged_dataset.csv')\n",
    "hca_all_merged_dataset.shape"
   ]
  },
  {
   "cell_type": "code",
   "execution_count": 148,
   "metadata": {},
   "outputs": [
    {
     "data": {
      "text/plain": [
       "id                        0\n",
       "restaurant_name           0\n",
       "restaurant_id             0\n",
       "latitude_x                0\n",
       "longitude_x               0\n",
       "visit_count               0\n",
       "last_visit                0\n",
       "fl_id                     0\n",
       "log_date                  0\n",
       "item_id                   0\n",
       "food_time                 0\n",
       "log_time                  0\n",
       "energy                    0\n",
       "protein                   0\n",
       "carbohydrate              0\n",
       "lipid_fat                 0\n",
       "item_unit                 0\n",
       "item_quantity             0\n",
       "user_id                   0\n",
       "exceeded_calories         0\n",
       "liked_substitute          0\n",
       "gender                    0\n",
       "birth_date                0\n",
       "user_height               0\n",
       "user_weight               0\n",
       "target_weight             0\n",
       "frequently_exercise       0\n",
       "food_mostly_eaten_at      0\n",
       "cuisine_ids               0\n",
       "spent_on_meal             0\n",
       "diet_plan                 0\n",
       "default_diet_plan         0\n",
       "medical_condition_ids     0\n",
       "allergic_condition_ids    0\n",
       "time_zone                 0\n",
       "is_dietitian              0\n",
       "latitude_y                0\n",
       "longitude_y               0\n",
       "last_access_time          0\n",
       "item_name                 0\n",
       "substitute_itemsids       0\n",
       "substitute_recipeids      0\n",
       "food_type                 0\n",
       "food_category             0\n",
       "recipe_name               0\n",
       "eqv                       0\n",
       "dtype: int64"
      ]
     },
     "execution_count": 148,
     "metadata": {},
     "output_type": "execute_result"
    }
   ],
   "source": [
    "hca_all_merged_dataset.isnull().sum()"
   ]
  },
  {
   "cell_type": "code",
   "execution_count": 147,
   "metadata": {},
   "outputs": [],
   "source": [
    "hca_all_merged_dataset.fillna('', inplace=True)"
   ]
  }
 ],
 "metadata": {
  "kernelspec": {
   "display_name": "Python 3 (ipykernel)",
   "language": "python",
   "name": "python3"
  },
  "language_info": {
   "codemirror_mode": {
    "name": "ipython",
    "version": 3
   },
   "file_extension": ".py",
   "mimetype": "text/x-python",
   "name": "python",
   "nbconvert_exporter": "python",
   "pygments_lexer": "ipython3",
   "version": "3.11.5"
  }
 },
 "nbformat": 4,
 "nbformat_minor": 2
}
